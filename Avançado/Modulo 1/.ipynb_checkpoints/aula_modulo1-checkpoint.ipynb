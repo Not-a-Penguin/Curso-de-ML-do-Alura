{
 "cells": [
  {
   "cell_type": "markdown",
   "metadata": {},
   "source": [
    "# Imports"
   ]
  },
  {
   "cell_type": "code",
   "execution_count": 1,
   "metadata": {},
   "outputs": [],
   "source": [
    "import tensorflow\n",
    "from tensorflow import keras\n",
    "import matplotlib.pyplot as plt \n",
    "import numpy as np"
   ]
  },
  {
   "cell_type": "markdown",
   "metadata": {},
   "source": [
    "# Carregando dataset"
   ]
  },
  {
   "cell_type": "code",
   "execution_count": 2,
   "metadata": {},
   "outputs": [],
   "source": [
    "dataset = keras.datasets.fashion_mnist\n",
    "((imagens_treino, identificacoes_treino),(imagens_teste, identificacoes_teste)) = dataset.load_data()"
   ]
  },
  {
   "cell_type": "markdown",
   "metadata": {},
   "source": [
    "# Explorando dados"
   ]
  },
  {
   "cell_type": "code",
   "execution_count": 3,
   "metadata": {},
   "outputs": [
    {
     "data": {
      "text/plain": [
       "9"
      ]
     },
     "execution_count": 3,
     "metadata": {},
     "output_type": "execute_result"
    }
   ],
   "source": [
    "imagens_treino.shape ## mostra a quantidade de elementos do treino e que eles tão numa matriz 28x28\n",
    "imagens_teste.shape ## mostra a quantidade de elementos do teste e que eles tão numa matriz 28x28\n",
    "len(identificacoes_treino) ## mostra a quantidade de elementos da identifacação\n",
    "identificacoes_treino.min() #descobre qual o menor valor de classificação\n",
    "identificacoes_treino.max() #descobre qual o maior valor de classificação"
   ]
  },
  {
   "cell_type": "markdown",
   "metadata": {},
   "source": [
    "# Exibir os dados"
   ]
  },
  {
   "cell_type": "code",
   "execution_count": 4,
   "metadata": {},
   "outputs": [
    {
     "data": {
      "text/plain": [
       "<matplotlib.colorbar.Colorbar at 0x2d30cebc988>"
      ]
     },
     "execution_count": 4,
     "metadata": {},
     "output_type": "execute_result"
    },
    {
     "data": {
      "image/png": "[encoded data removed]",
      "text/plain": [
       "<Figure size 432x288 with 2 Axes>"
      ]
     },
     "metadata": {
      "needs_background": "light"
     },
     "output_type": "display_data"
    }
   ],
   "source": [
    "nomes_das_identificacoes = ['camiseta','calça', 'pullover', 'vestido', \n",
    "                            'casaco', 'sandália', 'camisa', 'tênis', 'bolsa', 'bota']\n",
    "\n",
    "#plt.imshow(imagens_treino[0])\n",
    "#plt.title(identificacoes_treino[0])\n",
    "'''\n",
    "for imagem in range(10):\n",
    "    plt.subplot(2,5,imagem+1)\n",
    "    plt.imshow(imagens_treino[imagem], cmap=plt.cm.gray)\n",
    "    plt.title(nomes_das_identificacoes[identicacoes_treino[imagem]])\n",
    "'''\n",
    "\n",
    "plt.imshow(imagens_treino[0])\n",
    "plt.colorbar()"
   ]
  },
  {
   "cell_type": "markdown",
   "metadata": {},
   "source": [
    "# Criando o modelo e treinando"
   ]
  },
  {
   "cell_type": "code",
   "execution_count": 10,
   "metadata": {},
   "outputs": [
    {
     "name": "stdout",
     "output_type": "stream",
     "text": [
      "Train on 48000 samples, validate on 12000 samples\n",
      "Epoch 1/5\n",
      "48000/48000 [==============================] - 3s 59us/sample - loss: 1.0679 - accuracy: 0.6701 - val_loss: 0.6877 - val_accuracy: 0.7552\n",
      "Epoch 2/5\n",
      "48000/48000 [==============================] - 2s 52us/sample - loss: 0.6320 - accuracy: 0.7723 - val_loss: 0.5857 - val_accuracy: 0.7900\n",
      "Epoch 3/5\n",
      "48000/48000 [==============================] - 2s 52us/sample - loss: 0.5588 - accuracy: 0.7997 - val_loss: 0.5394 - val_accuracy: 0.8074\n",
      "Epoch 4/5\n",
      "48000/48000 [==============================] - 3s 52us/sample - loss: 0.5168 - accuracy: 0.8184 - val_loss: 0.5056 - val_accuracy: 0.8180\n",
      "Epoch 5/5\n",
      "48000/48000 [==============================] - 2s 52us/sample - loss: 0.4902 - accuracy: 0.8267 - val_loss: 0.4834 - val_accuracy: 0.8273\n"
     ]
    }
   ],
   "source": [
    "#normalização\n",
    "imagens_treino = imagens_treino/float(255)\n",
    "\n",
    "modelo = keras.Sequential([\n",
    "    keras.layers.Flatten(input_shape=(28,28)), #camada 0 - entrada\n",
    "    keras.layers.Dense(256, activation=tensorflow.nn.relu), #camada 1 - processamento \n",
    "    #keras.layers.Dropout(0.2), #camada para \"adormecer\" alguns processamentos\n",
    "    keras.layers.Dense(10, activation=tensorflow.nn.softmax) #camada 2 - saída\n",
    "])\n",
    "\n",
    "modelo.compile(optimizer = 'adam',\n",
    "              loss = 'sparse_categorical_crossentropy',\n",
    "              metrics=['accuracy'])\n",
    "\n",
    "historico = modelo.fit(imagens_treino, identificacoes_treino, epochs=5, #epochs = qtd  de vezes para treinar\n",
    "           validation_split = 0.2) #validation_split separa 20% para validação\n",
    "                                                                                    "
   ]
  },
  {
   "cell_type": "markdown",
   "metadata": {},
   "source": [
    "# Salvando o modelo e carregando"
   ]
  },
  {
   "cell_type": "code",
   "execution_count": 14,
   "metadata": {},
   "outputs": [],
   "source": [
    "from tensorflow.keras.models import load_model\n",
    "\n",
    "modelo.save(\"modelo.h5\")\n",
    "modelo_salvo = load_model(\"modelo.h5\")"
   ]
  },
  {
   "cell_type": "markdown",
   "metadata": {},
   "source": [
    "# plotando o gráfico de Acuracia x épocas"
   ]
  },
  {
   "cell_type": "code",
   "execution_count": 11,
   "metadata": {},
   "outputs": [
    {
     "data": {
      "image/png": "[encoded data removed]",
      "text/plain": [
       "<Figure size 432x288 with 1 Axes>"
      ]
     },
     "metadata": {
      "needs_background": "light"
     },
     "output_type": "display_data"
    }
   ],
   "source": [
    "plt.plot(historico.history['accuracy']) # acuráciado teste\n",
    "plt.plot(historico.history['val_accuracy']) #acurácia da validação\n",
    "plt.title(\"Acurácia por épocas\")\n",
    "plt.xlabel(\"épocas\")\n",
    "plt.ylabel(\"Acurácia\")\n",
    "plt.legend([\"Treino\", \"Validação\"])\n",
    "plt.grid()"
   ]
  },
  {
   "cell_type": "markdown",
   "metadata": {},
   "source": [
    "# plotando o gráfico de Perda x épocas"
   ]
  },
  {
   "cell_type": "code",
   "execution_count": 12,
   "metadata": {},
   "outputs": [
    {
     "data": {
      "image/png": "[encoded data removed]",
      "text/plain": [
       "<Figure size 432x288 with 1 Axes>"
      ]
     },
     "metadata": {
      "needs_background": "light"
     },
     "output_type": "display_data"
    }
   ],
   "source": [
    "plt.plot(historico.history['loss']) # acuráciado teste\n",
    "plt.plot(historico.history['val_loss']) #acurácia da validação\n",
    "plt.title(\"Perda por épocas\")\n",
    "plt.xlabel(\"épocas\")\n",
    "plt.ylabel(\"Perda\")\n",
    "plt.legend([\"Treino\", \"Avaliação\"])\n",
    "plt.grid()"
   ]
  },
  {
   "cell_type": "markdown",
   "metadata": {},
   "source": [
    "# Testando o modelo"
   ]
  },
  {
   "cell_type": "code",
   "execution_count": 8,
   "metadata": {},
   "outputs": [
    {
     "name": "stdout",
     "output_type": "stream",
     "text": [
      "Resultado teste: 9\n",
      "Número da imagem:  9\n"
     ]
    }
   ],
   "source": [
    "previsoes = modelo.predict(imagens_teste)\n",
    "resultado = np.argmax(previsoes[0])\n",
    "print(\"Resultado teste:\", resultado)\n",
    "print(\"Número da imagem: \", identificacoes_treino[0])"
   ]
  },
  {
   "cell_type": "markdown",
   "metadata": {},
   "source": [
    "# Avaliando o modelo"
   ]
  },
  {
   "cell_type": "code",
   "execution_count": 9,
   "metadata": {},
   "outputs": [
    {
     "name": "stdout",
     "output_type": "stream",
     "text": [
      "10000/10000 [==============================] - 0s 32us/sample - loss: 52.5148 - accuracy: 0.8625\n",
      "Perda do teste = 52.515     Acurácia do teste = 0.863\n"
     ]
    }
   ],
   "source": [
    "perda_teste, acuracia_teste = modelo.evaluate(imagens_teste, identificacoes_teste)\n",
    "print(\"Perda do teste = %.3f     Acurácia do teste = %.3f\" % (perda_teste, acuracia_teste))"
   ]
  },
  {
   "cell_type": "markdown",
   "metadata": {},
   "source": [
    "# Testando o modelo salvo"
   ]
  },
  {
   "cell_type": "code",
   "execution_count": 15,
   "metadata": {},
   "outputs": [
    {
     "name": "stdout",
     "output_type": "stream",
     "text": [
      "Resultado teste: 9\n",
      "Número da imagem:  9\n"
     ]
    }
   ],
   "source": [
    "previsoes = modelo_salvo.predict(imagens_teste)\n",
    "resultado = np.argmax(previsoes[0])\n",
    "print(\"Resultado teste:\", resultado)\n",
    "print(\"Número da imagem: \", identificacoes_treino[0])"
   ]
  }
 ],
 "metadata": {
  "kernelspec": {
   "display_name": "gpu - Python3.7",
   "language": "python",
   "name": "gpu3"
  },
  "language_info": {
   "codemirror_mode": {
    "name": "ipython",
    "version": 3
   },
   "file_extension": ".py",
   "mimetype": "text/x-python",
   "name": "python",
   "nbconvert_exporter": "python",
   "pygments_lexer": "ipython3",
   "version": "3.7.10"
  }
 },
 "nbformat": 4,
 "nbformat_minor": 4
}
