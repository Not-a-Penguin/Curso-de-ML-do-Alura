{
 "cells": [
  {
   "cell_type": "markdown",
   "metadata": {},
   "source": [
    "# Imports"
   ]
  },
  {
   "cell_type": "code",
   "execution_count": 1,
   "metadata": {},
   "outputs": [],
   "source": [
    "import tensorflow\n",
    "from tensorflow import keras\n",
    "import matplotlib.pyplot as plt \n",
    "import numpy as np"
   ]
  },
  {
   "cell_type": "markdown",
   "metadata": {},
   "source": [
    "# Carregando dataset"
   ]
  },
  {
   "cell_type": "code",
   "execution_count": 2,
   "metadata": {},
   "outputs": [],
   "source": [
    "dataset = keras.datasets.fashion_mnist\n",
    "((imagens_treino, identificacoes_treino),(imagens_teste, identificacoes_teste)) = dataset.load_data()"
   ]
  },
  {
   "cell_type": "markdown",
   "metadata": {},
   "source": [
    "# Explorando dados"
   ]
  },
  {
   "cell_type": "code",
   "execution_count": 3,
   "metadata": {},
   "outputs": [
    {
     "data": {
      "text/plain": [
       "9"
      ]
     },
     "execution_count": 3,
     "metadata": {},
     "output_type": "execute_result"
    }
   ],
   "source": [
    "imagens_treino.shape ## mostra a quantidade de elementos do treino e que eles tão numa matriz 28x28\n",
    "imagens_teste.shape ## mostra a quantidade de elementos do teste e que eles tão numa matriz 28x28\n",
    "len(identificacoes_treino) ## mostra a quantidade de elementos da identifacação\n",
    "identificacoes_treino.min() #descobre qual o menor valor de classificação\n",
    "identificacoes_treino.max() #descobre qual o maior valor de classificação"
   ]
  },
  {
   "cell_type": "markdown",
   "metadata": {},
   "source": [
    "# Exibir os dados"
   ]
  },
  {
   "cell_type": "code",
   "execution_count": 4,
   "metadata": {},
   "outputs": [
    {
     "data": {
      "text/plain": [
       "<matplotlib.colorbar.Colorbar at 0x151be68cc48>"
      ]
     },
     "execution_count": 4,
     "metadata": {},
     "output_type": "execute_result"
    },
    {
     "data": {
      "image/png": "[encoded data removed]",
      "text/plain": [
       "<Figure size 432x288 with 2 Axes>"
      ]
     },
     "metadata": {
      "needs_background": "light"
     },
     "output_type": "display_data"
    }
   ],
   "source": [
    "nomes_das_identificacoes = ['camiseta','calça', 'pullover', 'vestido', \n",
    "                            'casaco', 'sandália', 'camisa', 'tênis', 'bolsa', 'bota']\n",
    "\n",
    "#plt.imshow(imagens_treino[0])\n",
    "#plt.title(identificacoes_treino[0])\n",
    "'''\n",
    "for imagem in range(10):\n",
    "    plt.subplot(2,5,imagem+1)\n",
    "    plt.imshow(imagens_treino[imagem], cmap=plt.cm.gray)\n",
    "    plt.title(nomes_das_identificacoes[identicacoes_treino[imagem]])\n",
    "'''\n",
    "\n",
    "plt.imshow(imagens_treino[0])\n",
    "plt.colorbar()"
   ]
  },
  {
   "cell_type": "markdown",
   "metadata": {},
   "source": [
    "# Criando o modelo e treinando"
   ]
  },
  {
   "cell_type": "code",
   "execution_count": 5,
   "metadata": {},
   "outputs": [
    {
     "name": "stdout",
     "output_type": "stream",
     "text": [
      "Train on 48000 samples, validate on 12000 samples\n",
      "Epoch 1/5\n",
      "48000/48000 [==============================] - 3s 62us/sample - loss: 0.5026 - accuracy: 0.8217 - val_loss: 0.4097 - val_accuracy: 0.8515\n",
      "Epoch 2/5\n",
      "48000/48000 [==============================] - 3s 55us/sample - loss: 0.3755 - accuracy: 0.8643 - val_loss: 0.3710 - val_accuracy: 0.8644\n",
      "Epoch 3/5\n",
      "48000/48000 [==============================] - 3s 53us/sample - loss: 0.3365 - accuracy: 0.8774 - val_loss: 0.3853 - val_accuracy: 0.8654\n",
      "Epoch 4/5\n",
      "48000/48000 [==============================] - 3s 52us/sample - loss: 0.3095 - accuracy: 0.8860 - val_loss: 0.3422 - val_accuracy: 0.8773\n",
      "Epoch 5/5\n",
      "48000/48000 [==============================] - 3s 53us/sample - loss: 0.2896 - accuracy: 0.8938 - val_loss: 0.3504 - val_accuracy: 0.8722\n"
     ]
    }
   ],
   "source": [
    "#normalização\n",
    "imagens_treino = imagens_treino/float(255)\n",
    "\n",
    "modelo = keras.Sequential([\n",
    "    keras.layers.Flatten(input_shape=(28,28)), #camada 0 - entrada\n",
    "    keras.layers.Dense(256, activation=tensorflow.nn.relu), #camada 1 - processamento \n",
    "    #keras.layers.Dropout(0.2), #camada para \"adormecer\" alguns processamentos\n",
    "    keras.layers.Dense(10, activation=tensorflow.nn.softmax) #camada 2 - saída\n",
    "])\n",
    "\n",
    "modelo.compile(optimizer = 'adam',\n",
    "              loss = 'sparse_categorical_crossentropy',\n",
    "              metrics=['accuracy'])\n",
    "\n",
    "historico = modelo.fit(imagens_treino, identificacoes_treino, epochs=5, #epochs = qtd  de vezes para treinar\n",
    "           validation_split = 0.2) #validation_split separa 20% para validação\n",
    "                                                                                    "
   ]
  },
  {
   "cell_type": "markdown",
   "metadata": {},
   "source": [
    "# Sumário do Modelo"
   ]
  },
  {
   "cell_type": "code",
   "execution_count": 17,
   "metadata": {},
   "outputs": [
    {
     "name": "stdout",
     "output_type": "stream",
     "text": [
      "Model: \"sequential\"\n",
      "_________________________________________________________________\n",
      "Layer (type)                 Output Shape              Param #   \n",
      "=================================================================\n",
      "flatten (Flatten)            (None, 784)               0         \n",
      "_________________________________________________________________\n",
      "dense (Dense)                (None, 256)               200960    \n",
      "_________________________________________________________________\n",
      "dense_1 (Dense)              (None, 10)                2570      \n",
      "=================================================================\n",
      "Total params: 203,530\n",
      "Trainable params: 203,530\n",
      "Non-trainable params: 0\n",
      "_________________________________________________________________\n"
     ]
    }
   ],
   "source": [
    "#resumo do modelo\n",
    "sumario_modelo = modelo.summary()\n",
    "sumario_modelo"
   ]
  },
  {
   "cell_type": "markdown",
   "metadata": {},
   "source": [
    "# Pesos da primeira camada Dense\n",
    "Pesos tentam aproximar a curva do ideal"
   ]
  },
  {
   "cell_type": "code",
   "execution_count": 16,
   "metadata": {},
   "outputs": [
    {
     "data": {
      "text/plain": [
       "array([[ 0.14905336, -0.00579436, -0.15420775, ..., -0.00313656,\n",
       "         0.08558812,  0.09753843],\n",
       "       [-0.08870312, -0.07609948,  0.0458338 , ...,  0.1511638 ,\n",
       "         0.067954  ,  0.18253878],\n",
       "       [-0.11280753, -0.11072229, -0.05502081, ...,  0.16315141,\n",
       "         0.02601596,  0.30774227],\n",
       "       ...,\n",
       "       [-0.1879026 ,  0.0405754 ,  0.01964121, ..., -0.04073579,\n",
       "         0.05558285,  0.18968497],\n",
       "       [-0.2707665 , -0.0425414 ,  0.12232377, ..., -0.06186131,\n",
       "        -0.03976889,  0.14123675],\n",
       "       [-0.02467938, -0.0830916 ,  0.00563166, ..., -0.14552766,\n",
       "         0.08556256,  0.09501804]], dtype=float32)"
      ]
     },
     "execution_count": 16,
     "metadata": {},
     "output_type": "execute_result"
    }
   ],
   "source": [
    "pesos_camada_dense = modelo.layers[1].get_weights()[0]\n",
    "pesos_camada_dense"
   ]
  },
  {
   "cell_type": "markdown",
   "metadata": {},
   "source": [
    "# Vieses da primeira camada Dense\n",
    "Vies é a distância de um ponto para a curva ideal"
   ]
  },
  {
   "cell_type": "code",
   "execution_count": 29,
   "metadata": {},
   "outputs": [
    {
     "data": {
      "text/plain": [
       "(256,)"
      ]
     },
     "execution_count": 29,
     "metadata": {},
     "output_type": "execute_result"
    }
   ],
   "source": [
    "vieses_camada_dense = modelo.layers[1].get_weights()[1]\n",
    "vieses_camada_dense.shape"
   ]
  },
  {
   "cell_type": "markdown",
   "metadata": {},
   "source": [
    "# Deixando os dados de entrada simétricos, mas o que queremos é eles como assimétricos"
   ]
  },
  {
   "cell_type": "code",
   "execution_count": 27,
   "metadata": {},
   "outputs": [
    {
     "data": {
      "text/plain": [
       "[array([[9.5637476e-01, 6.4380211e-01, 2.1820853e-02, ..., 9.4270456e-01,\n",
       "         8.8898009e-01, 8.1871170e-01],\n",
       "        [7.3729342e-01, 3.2862630e-01, 5.0209695e-01, ..., 6.0889465e-01,\n",
       "         9.2955208e-01, 1.5172055e-01],\n",
       "        [2.0306855e-01, 2.7041718e-01, 1.6548868e-01, ..., 3.7088435e-02,\n",
       "         3.2201372e-02, 3.2112953e-01],\n",
       "        ...,\n",
       "        [3.0954832e-01, 9.9837977e-01, 2.6385078e-01, ..., 5.8904511e-01,\n",
       "         5.9751868e-01, 1.9429973e-01],\n",
       "        [7.1366918e-01, 4.5951810e-01, 6.2104911e-01, ..., 9.4684035e-01,\n",
       "         4.4437170e-02, 6.4259827e-02],\n",
       "        [8.9299917e-02, 3.2725769e-01, 1.1398111e-05, ..., 3.1163937e-01,\n",
       "         5.9652275e-01, 4.2692384e-01]], dtype=float32),\n",
       " array([ 2.11528137e-01,  3.16521734e-01,  3.40207934e-01,  3.06109488e-01,\n",
       "        -1.17185719e-01,  1.96017981e-01,  2.79440314e-01, -1.20177388e-01,\n",
       "         1.47296742e-01, -1.06264865e-02,  1.62478745e-01,  1.76743850e-01,\n",
       "         4.66285259e-01,  7.16806129e-02, -8.56246799e-02,  2.83736140e-01,\n",
       "        -1.12067796e-02,  1.74505770e-01,  8.21428671e-02, -1.43575087e-01,\n",
       "         1.70648947e-01, -1.02222033e-01, -1.51577955e-02, -3.09988707e-01,\n",
       "         2.66704351e-01,  8.56664032e-02,  2.10533500e-01,  1.26205847e-01,\n",
       "        -1.57599356e-02, -1.41831683e-02,  2.79485494e-01, -2.56034464e-01,\n",
       "        -4.56407666e-02, -1.16376411e-02,  1.81510061e-01,  3.72052222e-01,\n",
       "         1.82094395e-01, -1.25900552e-01, -2.15921089e-01, -1.82145685e-02,\n",
       "         1.89636797e-01, -1.79612208e-02,  1.77023113e-01,  2.20892683e-01,\n",
       "        -5.84864244e-02, -1.32788504e-02,  2.52358884e-01,  2.53083766e-01,\n",
       "         2.81596720e-01, -1.64411403e-02,  1.23791434e-01,  2.29437396e-01,\n",
       "         1.51115119e-01,  1.62730053e-01,  2.69110054e-01,  3.09101045e-01,\n",
       "         2.33179420e-01,  1.77860916e-01,  2.25084618e-01, -1.74769431e-01,\n",
       "         1.98599070e-01,  1.84677735e-01, -3.66051607e-02,  1.88836455e-01,\n",
       "         2.00635828e-02,  8.47487431e-03, -1.34901293e-02,  1.84133127e-01,\n",
       "        -7.37020671e-02,  2.20782503e-01,  3.40733826e-02, -4.02037986e-05,\n",
       "        -1.68798845e-02, -7.50901699e-02,  2.17671946e-01,  1.26581371e-01,\n",
       "        -2.31244445e-01,  1.89233840e-01, -3.32050994e-02, -5.26641384e-02,\n",
       "        -2.26579204e-01,  3.67345601e-01,  2.87027478e-01, -6.51217997e-03,\n",
       "         5.85172698e-02,  8.53478163e-02,  9.66854673e-03,  7.41776079e-02,\n",
       "         1.26741767e-01,  3.17500293e-01,  2.29062915e-01,  3.41650277e-01,\n",
       "         3.85625303e-01,  2.35633403e-01,  1.68892115e-01,  1.49688452e-01,\n",
       "        -2.81112283e-01, -1.18319038e-02,  4.18546759e-02,  5.69145307e-02,\n",
       "         1.81078926e-01,  3.43078464e-01,  4.31140155e-01,  2.52725810e-01,\n",
       "        -4.76165637e-02,  1.61792845e-01,  1.74475178e-01, -1.76234506e-02,\n",
       "        -2.60311421e-02, -6.98714480e-02,  6.62590340e-02, -3.81867051e-01,\n",
       "         3.59800816e-01,  1.51308700e-01, -2.37027071e-02, -7.37764612e-02,\n",
       "         2.34991014e-01,  2.14232191e-01,  1.61881037e-02,  2.19509020e-01,\n",
       "         1.33424327e-01, -1.34190693e-01,  1.15390636e-01,  3.25513870e-01,\n",
       "         1.30743146e-01,  2.83928335e-01, -7.91909099e-02, -1.17463239e-01,\n",
       "        -2.95167062e-02,  2.24548519e-01,  1.75331503e-01,  1.31592825e-01,\n",
       "        -2.18400508e-02,  2.45276093e-01,  4.56901751e-02,  9.79322419e-02,\n",
       "         2.45934948e-01,  3.53357233e-02,  2.02071548e-01, -1.75913572e-01,\n",
       "        -1.01418845e-01,  7.38634542e-03, -2.18121093e-02, -3.24661314e-01,\n",
       "         1.14553697e-01, -4.30588387e-02,  2.43855402e-01,  1.84497893e-01,\n",
       "         3.67109895e-01,  4.12526401e-03,  4.11616594e-01,  9.56636891e-02,\n",
       "         2.53127962e-01,  3.32777590e-01,  3.56349170e-01,  1.09861173e-01,\n",
       "        -1.22978473e-02,  3.84879261e-01,  1.35017186e-01,  2.68634945e-01,\n",
       "        -3.02833226e-02, -5.61715141e-02, -1.10214632e-02,  1.32536273e-02,\n",
       "         8.36063251e-02, -2.36733273e-01, -8.07003677e-02,  3.16193759e-01,\n",
       "        -7.20196813e-02, -1.51903927e-01,  1.78639650e-01,  2.74676204e-01,\n",
       "         6.67880625e-02,  2.89140135e-01,  3.23143631e-01,  5.96958585e-02,\n",
       "         2.30810642e-01,  4.47701328e-02, -3.47509608e-02,  1.68932706e-01,\n",
       "         3.12215358e-01,  2.61035532e-01, -1.67133629e-01,  3.03707123e-01,\n",
       "        -9.96444374e-03,  3.80422622e-02,  2.05296949e-01,  2.82309234e-01,\n",
       "        -9.82486457e-02,  1.55983835e-01,  2.37436235e-01, -1.51631311e-01,\n",
       "         1.18519694e-01,  2.34465629e-01, -1.95021983e-02, -1.51582196e-01,\n",
       "        -2.19941530e-02,  4.75978293e-03,  1.23868980e-01, -1.59439892e-02,\n",
       "        -1.02988906e-01,  2.65284985e-01,  1.40627936e-01,  2.80770779e-01,\n",
       "         7.94952456e-03, -2.88745249e-03,  4.59755100e-02,  3.15529853e-01,\n",
       "         9.95447040e-02,  1.38573080e-01,  1.62338644e-01,  5.42939492e-02,\n",
       "         1.42324150e-01,  2.75508642e-01, -1.82331707e-02,  5.52265532e-02,\n",
       "        -9.13943443e-03, -1.07192852e-01,  9.42530856e-02,  8.61305371e-02,\n",
       "        -9.59332846e-03, -1.69764552e-02,  1.78640544e-01, -8.15550890e-03,\n",
       "         2.31218889e-01,  6.39350340e-02,  2.56804116e-02,  7.42200762e-02,\n",
       "         2.41679505e-01,  3.45746756e-01, -2.84686208e-01, -2.27665082e-02,\n",
       "         9.29123163e-03, -1.41852692e-01,  3.43841404e-01,  1.29518867e-01,\n",
       "         3.20158243e-01,  3.11516821e-01,  2.58813858e-01,  1.92873761e-01,\n",
       "         1.73672244e-01,  3.87941711e-02,  2.17470616e-01, -1.37049168e-01,\n",
       "         1.72539189e-01,  3.22790712e-01,  2.73990482e-01,  1.61735281e-01,\n",
       "        -5.26169576e-02,  1.95281133e-01,  2.33586103e-01,  7.93882646e-03,\n",
       "         1.22809894e-01,  1.76719919e-01,  1.69823915e-01,  3.74958068e-01],\n",
       "       dtype=float32)]"
      ]
     },
     "execution_count": 27,
     "metadata": {},
     "output_type": "execute_result"
    }
   ],
   "source": [
    "#normalização\n",
    "imagens_treino = imagens_treino/float(255)\n",
    "\n",
    "modelo_simetrico = keras.Sequential([\n",
    "    keras.layers.Flatten(input_shape=(28,28)), #camada 0 - entrada\n",
    "    keras.layers.Dense(256, activation=tensorflow.nn.relu), #camada 1 - processamento \n",
    "    #keras.layers.Dropout(0.2), #camada para \"adormecer\" alguns processamentos\n",
    "    keras.layers.Dense(10, activation=tensorflow.nn.softmax) #camada 2 - saída\n",
    "])\n",
    "\n",
    "#pesos_camada_dense_zerados = np.zeros((784,256))\n",
    "pesos_camada_dense_aleatorios = np.random.rand(784,256)\n",
    "modelo_simetrico.layers[1].set_weights(\n",
    "    [pesos_camada_dense_aleatorios, vieses_camada_dense]\n",
    ")\n",
    "modelo_simetrico.layers[1].get_weights()"
   ]
  },
  {
   "cell_type": "markdown",
   "metadata": {},
   "source": [
    "# Pegando informações da configuração do modelo"
   ]
  },
  {
   "cell_type": "code",
   "execution_count": 28,
   "metadata": {},
   "outputs": [
    {
     "data": {
      "text/plain": [
       "{'name': 'sequential_1',\n",
       " 'layers': [{'class_name': 'Flatten',\n",
       "   'config': {'name': 'flatten_1',\n",
       "    'trainable': True,\n",
       "    'batch_input_shape': (None, 28, 28),\n",
       "    'dtype': 'float32',\n",
       "    'data_format': 'channels_last'}},\n",
       "  {'class_name': 'Dense',\n",
       "   'config': {'name': 'dense_2',\n",
       "    'trainable': True,\n",
       "    'dtype': 'float32',\n",
       "    'units': 256,\n",
       "    'activation': 'relu',\n",
       "    'use_bias': True,\n",
       "    'kernel_initializer': {'class_name': 'GlorotUniform',\n",
       "     'config': {'seed': None}},\n",
       "    'bias_initializer': {'class_name': 'Zeros', 'config': {}},\n",
       "    'kernel_regularizer': None,\n",
       "    'bias_regularizer': None,\n",
       "    'activity_regularizer': None,\n",
       "    'kernel_constraint': None,\n",
       "    'bias_constraint': None}},\n",
       "  {'class_name': 'Dense',\n",
       "   'config': {'name': 'dense_3',\n",
       "    'trainable': True,\n",
       "    'dtype': 'float32',\n",
       "    'units': 10,\n",
       "    'activation': 'softmax',\n",
       "    'use_bias': True,\n",
       "    'kernel_initializer': {'class_name': 'GlorotUniform',\n",
       "     'config': {'seed': None}},\n",
       "    'bias_initializer': {'class_name': 'Zeros', 'config': {}},\n",
       "    'kernel_regularizer': None,\n",
       "    'bias_regularizer': None,\n",
       "    'activity_regularizer': None,\n",
       "    'kernel_constraint': None,\n",
       "    'bias_constraint': None}}]}"
      ]
     },
     "execution_count": 28,
     "metadata": {},
     "output_type": "execute_result"
    }
   ],
   "source": [
    "modelo.get_config()"
   ]
  },
  {
   "cell_type": "markdown",
   "metadata": {},
   "source": [
    "# Salvando o modelo e carregando"
   ]
  },
  {
   "cell_type": "code",
   "execution_count": 7,
   "metadata": {},
   "outputs": [],
   "source": [
    "from tensorflow.keras.models import load_model\n",
    "\n",
    "modelo.save(\"modelo.h5\")\n",
    "modelo_salvo = load_model(\"modelo.h5\")"
   ]
  },
  {
   "cell_type": "markdown",
   "metadata": {},
   "source": [
    "# plotando o gráfico de Acuracia x épocas"
   ]
  },
  {
   "cell_type": "code",
   "execution_count": 8,
   "metadata": {},
   "outputs": [
    {
     "data": {
      "image/png": "[encoded data removed]",
      "text/plain": [
       "<Figure size 432x288 with 1 Axes>"
      ]
     },
     "metadata": {
      "needs_background": "light"
     },
     "output_type": "display_data"
    }
   ],
   "source": [
    "plt.plot(historico.history['accuracy']) # acuráciado teste\n",
    "plt.plot(historico.history['val_accuracy']) #acurácia da validação\n",
    "plt.title(\"Acurácia por épocas\")\n",
    "plt.xlabel(\"épocas\")\n",
    "plt.ylabel(\"Acurácia\")\n",
    "plt.legend([\"Treino\", \"Validação\"])\n",
    "plt.grid()"
   ]
  },
  {
   "cell_type": "markdown",
   "metadata": {},
   "source": [
    "# plotando o gráfico de Perda x épocas"
   ]
  },
  {
   "cell_type": "code",
   "execution_count": 9,
   "metadata": {},
   "outputs": [
    {
     "data": {
      "image/png": "[encoded data removed]",
      "text/plain": [
       "<Figure size 432x288 with 1 Axes>"
      ]
     },
     "metadata": {
      "needs_background": "light"
     },
     "output_type": "display_data"
    }
   ],
   "source": [
    "plt.plot(historico.history['loss']) # acuráciado teste\n",
    "plt.plot(historico.history['val_loss']) #acurácia da validação\n",
    "plt.title(\"Perda por épocas\")\n",
    "plt.xlabel(\"épocas\")\n",
    "plt.ylabel(\"Perda\")\n",
    "plt.legend([\"Treino\", \"Avaliação\"])\n",
    "plt.grid()"
   ]
  },
  {
   "cell_type": "markdown",
   "metadata": {},
   "source": [
    "# Testando o modelo"
   ]
  },
  {
   "cell_type": "code",
   "execution_count": 10,
   "metadata": {},
   "outputs": [
    {
     "name": "stdout",
     "output_type": "stream",
     "text": [
      "Resultado teste: 9\n",
      "Número da imagem:  9\n"
     ]
    }
   ],
   "source": [
    "previsoes = modelo.predict(imagens_teste)\n",
    "resultado = np.argmax(previsoes[0])\n",
    "print(\"Resultado teste:\", resultado)\n",
    "print(\"Número da imagem: \", identificacoes_treino[0])"
   ]
  },
  {
   "cell_type": "markdown",
   "metadata": {},
   "source": [
    "# Avaliando o modelo"
   ]
  },
  {
   "cell_type": "code",
   "execution_count": 11,
   "metadata": {},
   "outputs": [
    {
     "name": "stdout",
     "output_type": "stream",
     "text": [
      "10000/10000 [==============================] - 0s 33us/sample - loss: 58.0407 - accuracy: 0.8587\n",
      "Perda do teste = 58.041     Acurácia do teste = 0.859\n"
     ]
    }
   ],
   "source": [
    "perda_teste, acuracia_teste = modelo.evaluate(imagens_teste, identificacoes_teste)\n",
    "print(\"Perda do teste = %.3f     Acurácia do teste = %.3f\" % (perda_teste, acuracia_teste))"
   ]
  },
  {
   "cell_type": "markdown",
   "metadata": {},
   "source": [
    "# Testando o modelo salvo"
   ]
  },
  {
   "cell_type": "code",
   "execution_count": 12,
   "metadata": {},
   "outputs": [
    {
     "name": "stdout",
     "output_type": "stream",
     "text": [
      "Resultado teste: 9\n",
      "Número da imagem:  9\n"
     ]
    }
   ],
   "source": [
    "previsoes = modelo_salvo.predict(imagens_teste)\n",
    "resultado = np.argmax(previsoes[0])\n",
    "print(\"Resultado teste:\", resultado)\n",
    "print(\"Número da imagem: \", identificacoes_treino[0])"
   ]
  }
 ],
 "metadata": {
  "kernelspec": {
   "display_name": "gpu - Python3.7",
   "language": "python",
   "name": "gpu3"
  },
  "language_info": {
   "codemirror_mode": {
    "name": "ipython",
    "version": 3
   },
   "file_extension": ".py",
   "mimetype": "text/x-python",
   "name": "python",
   "nbconvert_exporter": "python",
   "pygments_lexer": "ipython3",
   "version": "3.7.10"
  }
 },
 "nbformat": 4,
 "nbformat_minor": 4
}
