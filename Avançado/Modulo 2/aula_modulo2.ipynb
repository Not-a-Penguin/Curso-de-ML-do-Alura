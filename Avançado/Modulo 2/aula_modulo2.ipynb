{
 "cells": [
  {
   "cell_type": "markdown",
   "metadata": {},
   "source": [
    "# Imports"
   ]
  },
  {
   "cell_type": "code",
   "execution_count": 1,
   "metadata": {},
   "outputs": [],
   "source": [
    "import tensorflow\n",
    "from tensorflow import keras\n",
    "import matplotlib.pyplot as plt \n",
    "import numpy as np"
   ]
  },
  {
   "cell_type": "markdown",
   "metadata": {},
   "source": [
    "# Carregando dataset"
   ]
  },
  {
   "cell_type": "code",
   "execution_count": 2,
   "metadata": {},
   "outputs": [],
   "source": [
    "dataset = keras.datasets.fashion_mnist\n",
    "((imagens_treino, identificacoes_treino),(imagens_teste, identificacoes_teste)) = dataset.load_data()"
   ]
  },
  {
   "cell_type": "markdown",
   "metadata": {},
   "source": [
    "# Explorando dados"
   ]
  },
  {
   "cell_type": "code",
   "execution_count": 3,
   "metadata": {},
   "outputs": [
    {
     "data": {
      "text/plain": [
       "9"
      ]
     },
     "execution_count": 3,
     "metadata": {},
     "output_type": "execute_result"
    }
   ],
   "source": [
    "imagens_treino.shape ## mostra a quantidade de elementos do treino e que eles tão numa matriz 28x28\n",
    "imagens_teste.shape ## mostra a quantidade de elementos do teste e que eles tão numa matriz 28x28\n",
    "len(identificacoes_treino) ## mostra a quantidade de elementos da identifacação\n",
    "identificacoes_treino.min() #descobre qual o menor valor de classificação\n",
    "identificacoes_treino.max() #descobre qual o maior valor de classificação"
   ]
  },
  {
   "cell_type": "markdown",
   "metadata": {},
   "source": [
    "# Exibir os dados"
   ]
  },
  {
   "cell_type": "code",
   "execution_count": 4,
   "metadata": {},
   "outputs": [
    {
     "data": {
      "text/plain": [
       "<matplotlib.colorbar.Colorbar at 0x25050592608>"
      ]
     },
     "execution_count": 4,
     "metadata": {},
     "output_type": "execute_result"
    },
    {
     "data": {
      "image/png": "[encoded data removed]",
      "text/plain": [
       "<Figure size 432x288 with 2 Axes>"
      ]
     },
     "metadata": {
      "needs_background": "light"
     },
     "output_type": "display_data"
    }
   ],
   "source": [
    "nomes_das_identificacoes = ['camiseta','calça', 'pullover', 'vestido', \n",
    "                            'casaco', 'sandália', 'camisa', 'tênis', 'bolsa', 'bota']\n",
    "\n",
    "#plt.imshow(imagens_treino[0])\n",
    "#plt.title(identificacoes_treino[0])\n",
    "'''\n",
    "for imagem in range(10):\n",
    "    plt.subplot(2,5,imagem+1)\n",
    "    plt.imshow(imagens_treino[imagem], cmap=plt.cm.gray)\n",
    "    plt.title(nomes_das_identificacoes[identicacoes_treino[imagem]])\n",
    "'''\n",
    "\n",
    "plt.imshow(imagens_treino[0])\n",
    "plt.colorbar()"
   ]
  },
  {
   "cell_type": "markdown",
   "metadata": {},
   "source": [
    "# Criando o modelo e treinando"
   ]
  },
  {
   "cell_type": "code",
   "execution_count": 23,
   "metadata": {},
   "outputs": [
    {
     "name": "stdout",
     "output_type": "stream",
     "text": [
      "Train on 48000 samples, validate on 12000 samples\n",
      "Epoch 1/5\n",
      "48000/48000 [==============================] - 1s 21us/sample - loss: 2.3032 - accuracy: 0.1014 - val_loss: 2.3033 - val_accuracy: 0.0995\n",
      "Epoch 2/5\n",
      "48000/48000 [==============================] - 1s 12us/sample - loss: 2.3029 - accuracy: 0.1014 - val_loss: 2.3040 - val_accuracy: 0.0983\n"
     ]
    }
   ],
   "source": [
    "#normalização\n",
    "imagens_treino = imagens_treino/float(255)\n",
    "\n",
    "modelo = keras.Sequential([\n",
    "    keras.layers.Flatten(input_shape=(28,28)), #camada 0 - entrada\n",
    "    keras.layers.Dense(256, activation=tensorflow.nn.relu), #camada 1 - processamento \n",
    "    #keras.layers.Dropout(0.2), #camada para \"adormecer\" alguns processamentos\n",
    "    keras.layers.Dense(10, activation=tensorflow.nn.softmax) #camada 2 - saída\n",
    "])\n",
    "\n",
    "callbacks = [keras.callbacks.EarlyStopping(monitor='val_loss'), #monitora a perda de validação para parar o treino cedo\n",
    "            keras.callbacks.ModelCheckpoint(filepath='melhor_modelo.hdf5', #salva os dados do melhor modelo num arquivo\n",
    "                                          monitor='val_loss', #monitora a perda de validação para parar o modelo no melhor momento\n",
    "                                          save_best_only = True)] #Ativa save_best_only\n",
    "adam = keras.optimizers.Adam(lr=0.01) #lr = taxa de aprendizado \n",
    "\n",
    "modelo.compile(optimizer = adam,\n",
    "              loss = 'sparse_categorical_crossentropy',\n",
    "              metrics=['accuracy'])\n",
    "\n",
    "historico = modelo.fit(imagens_treino, identificacoes_treino, \n",
    "            batch_size = 480, #determina um conjunto de dados por vez , bom para diminuir o tempo de treinamento\n",
    "            epochs=5, #epochs = qtd  de vezes para treinar\n",
    "           validation_split = 0.2, #validation_split separa 20% para validação\n",
    "            callbacks = callbacks) #para o treinamento de o val_loss não mudar\n",
    "                                                                                    "
   ]
  },
  {
   "cell_type": "markdown",
   "metadata": {},
   "source": [
    "# Sumário do Modelo"
   ]
  },
  {
   "cell_type": "code",
   "execution_count": 6,
   "metadata": {},
   "outputs": [
    {
     "name": "stdout",
     "output_type": "stream",
     "text": [
      "Model: \"sequential\"\n",
      "_________________________________________________________________\n",
      "Layer (type)                 Output Shape              Param #   \n",
      "=================================================================\n",
      "flatten (Flatten)            (None, 784)               0         \n",
      "_________________________________________________________________\n",
      "dense (Dense)                (None, 256)               200960    \n",
      "_________________________________________________________________\n",
      "dense_1 (Dense)              (None, 10)                2570      \n",
      "=================================================================\n",
      "Total params: 203,530\n",
      "Trainable params: 203,530\n",
      "Non-trainable params: 0\n",
      "_________________________________________________________________\n"
     ]
    }
   ],
   "source": [
    "#resumo do modelo\n",
    "sumario_modelo = modelo.summary()\n",
    "sumario_modelo"
   ]
  },
  {
   "cell_type": "markdown",
   "metadata": {},
   "source": [
    "# Pesos da primeira camada Dense\n",
    "Pesos tentam aproximar a curva do ideal"
   ]
  },
  {
   "cell_type": "code",
   "execution_count": 7,
   "metadata": {},
   "outputs": [
    {
     "data": {
      "text/plain": [
       "array([[ 4.6445355e-03,  5.1470608e-02,  2.0420559e-02, ...,\n",
       "         6.4651653e-02,  5.9966102e-02, -6.2408961e-02],\n",
       "       [-7.1378298e-02, -3.3243511e-02,  5.4358944e-02, ...,\n",
       "         1.7893113e-02, -1.7714448e-02,  4.2292528e-02],\n",
       "       [ 1.7415732e-04, -4.3060780e-03,  3.6013482e+00, ...,\n",
       "        -4.4046931e+00, -2.7604345e-02,  9.3933970e-01],\n",
       "       ...,\n",
       "       [-4.1883979e+00,  1.3436824e-03,  4.9098959e+00, ...,\n",
       "         4.7308445e+00, -4.1107750e+00,  6.1113626e-02],\n",
       "       [-4.3920522e+00,  6.4853013e-02, -3.5170460e+00, ...,\n",
       "        -1.9647669e+00, -1.8757179e-01, -3.9199376e+00],\n",
       "       [-3.6045535e+00,  2.8927781e-02,  4.3565693e+00, ...,\n",
       "         4.8643575e+00, -4.4410232e-01,  1.7032906e-02]], dtype=float32)"
      ]
     },
     "execution_count": 7,
     "metadata": {},
     "output_type": "execute_result"
    }
   ],
   "source": [
    "pesos_camada_dense = modelo.layers[1].get_weights()[0]\n",
    "pesos_camada_dense"
   ]
  },
  {
   "cell_type": "markdown",
   "metadata": {},
   "source": [
    "# Vieses da primeira camada Dense\n",
    "Vies é a distância de um ponto para a curva ideal"
   ]
  },
  {
   "cell_type": "code",
   "execution_count": 8,
   "metadata": {},
   "outputs": [
    {
     "data": {
      "text/plain": [
       "(256,)"
      ]
     },
     "execution_count": 8,
     "metadata": {},
     "output_type": "execute_result"
    }
   ],
   "source": [
    "vieses_camada_dense = modelo.layers[1].get_weights()[1]\n",
    "vieses_camada_dense.shape"
   ]
  },
  {
   "cell_type": "markdown",
   "metadata": {},
   "source": [
    "# Deixando os dados de entrada simétricos, mas o que queremos é eles como assimétricos"
   ]
  },
  {
   "cell_type": "code",
   "execution_count": 9,
   "metadata": {},
   "outputs": [
    {
     "data": {
      "text/plain": [
       "[array([[0.45173168, 0.5702245 , 0.587234  , ..., 0.83316034, 0.9385891 ,\n",
       "         0.21092188],\n",
       "        [0.79689354, 0.38333714, 0.3268724 , ..., 0.36016592, 0.8752725 ,\n",
       "         0.23873593],\n",
       "        [0.5970558 , 0.40001935, 0.6560318 , ..., 0.73890865, 0.08757753,\n",
       "         0.63055795],\n",
       "        ...,\n",
       "        [0.6765933 , 0.31771475, 0.25289208, ..., 0.86956877, 0.07907087,\n",
       "         0.09081654],\n",
       "        [0.8796356 , 0.3178082 , 0.58318317, ..., 0.5357527 , 0.44133687,\n",
       "         0.881769  ],\n",
       "        [0.8777748 , 0.417136  , 0.96186703, ..., 0.58941513, 0.8009331 ,\n",
       "         0.14565676]], dtype=float32),\n",
       " array([ -2.0258415 ,  -5.519137  ,  -2.3911545 ,  -4.7206154 ,\n",
       "         -4.2034264 ,  -5.4098105 ,  -7.6273055 ,  -4.715949  ,\n",
       "         -4.203481  ,  -2.098525  ,  -4.2028236 ,  -3.4007494 ,\n",
       "         -1.6238195 ,  -4.2033567 , -21.216211  , -13.077239  ,\n",
       "         -4.8214607 ,  -1.9464456 ,  -3.1613476 ,  -3.6758122 ,\n",
       "         -2.439414  ,  -2.8154945 ,  -4.3336325 ,  -4.519084  ,\n",
       "         -5.752232  , -19.455036  ,  -4.203104  ,  -2.9990573 ,\n",
       "         -4.7378764 ,  -2.5361342 ,  -4.7820606 ,  -3.167118  ,\n",
       "         -4.390207  ,  -4.203517  ,  -5.8021064 ,  -4.198986  ,\n",
       "         -3.722562  ,  -2.008159  ,  -1.5572721 ,  -2.0515704 ,\n",
       "         -3.130996  ,  -4.2034516 , -17.728512  ,  -7.3086042 ,\n",
       "         -5.111496  ,  -4.2006774 ,  -4.796078  ,  -3.126287  ,\n",
       "         -4.2032366 ,  -5.553876  ,  -4.2035213 ,   4.1984725 ,\n",
       "         -4.1993356 ,  -5.332936  ,  -2.5322356 ,  -6.999639  ,\n",
       "         -2.7435637 ,  -3.4693651 ,  -5.8198867 ,  -2.4021041 ,\n",
       "         -4.192084  ,  -5.593333  ,  -3.124468  ,  -4.19682   ,\n",
       "         -3.1312797 ,  -3.1736903 ,  -8.409163  ,  -4.64143   ,\n",
       "         -1.9427292 ,  -6.3798385 ,  -2.8609648 ,  -0.97591555,\n",
       "         -4.202149  ,  -4.2030044 ,  -3.312643  ,  -2.7985837 ,\n",
       "         -3.061807  ,  -2.3640132 ,  -4.2031617 ,  -6.4377804 ,\n",
       "         -4.1998405 , -14.0914    ,  -2.8064506 ,  -3.9052775 ,\n",
       "         -5.590795  ,  -4.2030897 ,  -1.3682427 ,  -2.265505  ,\n",
       "         -4.175403  ,  -5.4118495 ,  -4.2033596 ,  -3.1635568 ,\n",
       "         -4.988934  ,  -4.202338  ,  -2.3459165 ,  -4.1992407 ,\n",
       "         -5.218568  , -13.197415  ,  -1.4035378 ,  -1.9456294 ,\n",
       "         -4.2030334 , -11.341511  , -10.280533  ,  -1.1316023 ,\n",
       "         -1.8938862 ,  -2.179353  ,  -4.1998167 ,  -1.9976289 ,\n",
       "         -6.8544974 ,  -5.7001877 ,  -1.9910232 ,  -4.754006  ,\n",
       "         -3.166871  ,  -3.1416159 ,  -6.2609134 ,  -2.1695478 ,\n",
       "         -0.7608009 ,  -3.0955093 ,  -4.2028913 ,  -1.7949384 ,\n",
       "          0.43698648,  -3.7009535 ,  -3.6944187 ,  -4.2034297 ,\n",
       "         -2.7282946 ,  -3.4452553 ,  -1.3343227 ,  -7.2876797 ,\n",
       "         -4.2032924 , -11.150657  ,  -6.091898  ,  -3.9380682 ,\n",
       "         -5.530128  , -17.970043  ,  -6.674297  ,  -1.7121872 ,\n",
       "         -4.3188357 ,  -4.120068  ,  -5.9534    ,  -1.8083827 ,\n",
       "         -4.197237  ,  -4.2025714 ,  -4.2031636 ,  -4.1927595 ,\n",
       "         -4.203184  ,  -6.8710923 ,  -4.2031817 ,  -3.5482507 ,\n",
       "         -9.906573  ,  -4.202488  ,  -4.203561  ,  -8.980583  ,\n",
       "        -23.354198  ,  -4.20322   ,  -4.2020926 ,  -7.6505923 ,\n",
       "         -4.2024207 ,  -4.2019567 ,  -2.380029  ,  -3.741597  ,\n",
       "         -5.0914927 ,  -4.2028875 ,  -4.203343  ,  -1.8393947 ,\n",
       "         -4.202959  ,  -2.6139789 ,  -2.7829995 ,  -4.781491  ,\n",
       "         -4.59543   ,  -3.8568332 ,  -4.203386  ,  -5.346753  ,\n",
       "         -3.1527958 ,  -6.692035  ,  -4.277334  ,  -4.2033305 ,\n",
       "         -4.2017384 ,  -1.6619182 ,  -4.9834447 ,  -4.183789  ,\n",
       "         -0.58421946,  -3.0835373 ,  -3.2012167 ,  -4.6917195 ,\n",
       "         -2.557972  ,  -4.203164  , -10.173549  ,  -3.1655421 ,\n",
       "         -4.829994  ,  -4.2031555 ,  -5.619364  ,  -1.85871   ,\n",
       "         -4.2021832 ,  -3.1701574 , -12.493835  ,  -4.2027683 ,\n",
       "         -6.1085024 ,  -4.2024226 ,  -6.104981  ,  -2.2742445 ,\n",
       "         -4.8805137 ,  -5.7902822 ,  -5.6462765 , -14.18133   ,\n",
       "         -3.8854022 ,  -5.5557632 ,   4.1923547 ,  -2.685954  ,\n",
       "         -7.9034886 ,  -2.956408  ,  -6.186776  , -11.977912  ,\n",
       "        -13.725463  ,  -5.3699274 ,  -4.9546056 ,  -2.3938553 ,\n",
       "         -2.2255547 ,  -4.5622616 ,  -4.131126  ,  -6.6758833 ,\n",
       "         -4.2016664 ,   4.2022467 ,  -1.811652  ,  -1.6786357 ,\n",
       "         -4.2029862 ,  -4.2011113 ,  -3.3263223 ,  -3.7797725 ,\n",
       "         -4.1879296 ,  -3.1214743 ,  -3.741013  , -23.16793   ,\n",
       "         -4.203406  ,  -3.056458  ,  -2.6157973 ,  -5.875128  ,\n",
       "         -4.708939  ,   4.1908016 ,  -3.0202029 ,  -1.7452803 ,\n",
       "          0.19638628,  -6.052656  ,  -3.714268  , -12.566487  ,\n",
       "         -3.1555805 ,  -2.4160519 ,  -4.203556  ,  -4.2034574 ,\n",
       "         -1.0801376 ,  -2.2876854 ,  -4.199364  ,  -2.430526  ,\n",
       "         -4.7020807 ,  -4.0253115 ,  -4.2030916 ,  -4.6002626 ],\n",
       "       dtype=float32)]"
      ]
     },
     "execution_count": 9,
     "metadata": {},
     "output_type": "execute_result"
    }
   ],
   "source": [
    "#normalização\n",
    "imagens_treino = imagens_treino/float(255)\n",
    "\n",
    "modelo_simetrico = keras.Sequential([\n",
    "    keras.layers.Flatten(input_shape=(28,28)), #camada 0 - entrada\n",
    "    keras.layers.Dense(256, activation=tensorflow.nn.relu), #camada 1 - processamento \n",
    "    #keras.layers.Dropout(0.2), #camada para \"adormecer\" alguns processamentos\n",
    "    keras.layers.Dense(10, activation=tensorflow.nn.softmax) #camada 2 - saída\n",
    "])\n",
    "\n",
    "#pesos_camada_dense_zerados = np.zeros((784,256))\n",
    "pesos_camada_dense_aleatorios = np.random.rand(784,256)\n",
    "\n",
    "\n",
    "modelo_simetrico.layers[1].set_weights(\n",
    "    [pesos_camada_dense_aleatorios, vieses_camada_dense]\n",
    ")\n",
    "modelo_simetrico.layers[1].get_weights()"
   ]
  },
  {
   "cell_type": "markdown",
   "metadata": {},
   "source": [
    "# Pegando informações da configuração do modelo"
   ]
  },
  {
   "cell_type": "code",
   "execution_count": 10,
   "metadata": {},
   "outputs": [
    {
     "data": {
      "text/plain": [
       "{'name': 'sequential',\n",
       " 'layers': [{'class_name': 'Flatten',\n",
       "   'config': {'name': 'flatten',\n",
       "    'trainable': True,\n",
       "    'batch_input_shape': (None, 28, 28),\n",
       "    'dtype': 'float32',\n",
       "    'data_format': 'channels_last'}},\n",
       "  {'class_name': 'Dense',\n",
       "   'config': {'name': 'dense',\n",
       "    'trainable': True,\n",
       "    'dtype': 'float32',\n",
       "    'units': 256,\n",
       "    'activation': 'relu',\n",
       "    'use_bias': True,\n",
       "    'kernel_initializer': {'class_name': 'GlorotUniform',\n",
       "     'config': {'seed': None}},\n",
       "    'bias_initializer': {'class_name': 'Zeros', 'config': {}},\n",
       "    'kernel_regularizer': None,\n",
       "    'bias_regularizer': None,\n",
       "    'activity_regularizer': None,\n",
       "    'kernel_constraint': None,\n",
       "    'bias_constraint': None}},\n",
       "  {'class_name': 'Dense',\n",
       "   'config': {'name': 'dense_1',\n",
       "    'trainable': True,\n",
       "    'dtype': 'float32',\n",
       "    'units': 10,\n",
       "    'activation': 'softmax',\n",
       "    'use_bias': True,\n",
       "    'kernel_initializer': {'class_name': 'GlorotUniform',\n",
       "     'config': {'seed': None}},\n",
       "    'bias_initializer': {'class_name': 'Zeros', 'config': {}},\n",
       "    'kernel_regularizer': None,\n",
       "    'bias_regularizer': None,\n",
       "    'activity_regularizer': None,\n",
       "    'kernel_constraint': None,\n",
       "    'bias_constraint': None}}]}"
      ]
     },
     "execution_count": 10,
     "metadata": {},
     "output_type": "execute_result"
    }
   ],
   "source": [
    "modelo.get_config()"
   ]
  },
  {
   "cell_type": "markdown",
   "metadata": {},
   "source": [
    "# Salvando o modelo e carregando"
   ]
  },
  {
   "cell_type": "code",
   "execution_count": 11,
   "metadata": {},
   "outputs": [],
   "source": [
    "from tensorflow.keras.models import load_model\n",
    "\n",
    "modelo.save(\"modelo.h5\")\n",
    "modelo_salvo = load_model(\"modelo.h5\")"
   ]
  },
  {
   "cell_type": "markdown",
   "metadata": {},
   "source": [
    "# plotando o gráfico de Acuracia x épocas"
   ]
  },
  {
   "cell_type": "code",
   "execution_count": 12,
   "metadata": {},
   "outputs": [
    {
     "data": {
      "image/png": "[encoded data removed]",
      "text/plain": [
       "<Figure size 432x288 with 1 Axes>"
      ]
     },
     "metadata": {
      "needs_background": "light"
     },
     "output_type": "display_data"
    }
   ],
   "source": [
    "plt.plot(historico.history['accuracy']) # acuráciado teste\n",
    "plt.plot(historico.history['val_accuracy']) #acurácia da validação\n",
    "plt.title(\"Acurácia por épocas\")\n",
    "plt.xlabel(\"épocas\")\n",
    "plt.ylabel(\"Acurácia\")\n",
    "plt.legend([\"Treino\", \"Validação\"])\n",
    "plt.grid()"
   ]
  },
  {
   "cell_type": "markdown",
   "metadata": {},
   "source": [
    "# plotando o gráfico de Perda x épocas"
   ]
  },
  {
   "cell_type": "code",
   "execution_count": 13,
   "metadata": {},
   "outputs": [
    {
     "data": {
      "image/png": "[encoded data removed]",
      "text/plain": [
       "<Figure size 432x288 with 1 Axes>"
      ]
     },
     "metadata": {
      "needs_background": "light"
     },
     "output_type": "display_data"
    }
   ],
   "source": [
    "plt.plot(historico.history['loss']) # acuráciado teste\n",
    "plt.plot(historico.history['val_loss']) #acurácia da validação\n",
    "plt.title(\"Perda por épocas\")\n",
    "plt.xlabel(\"épocas\")\n",
    "plt.ylabel(\"Perda\")\n",
    "plt.legend([\"Treino\", \"Avaliação\"])\n",
    "plt.grid()"
   ]
  },
  {
   "cell_type": "markdown",
   "metadata": {},
   "source": [
    "# Testando o modelo"
   ]
  },
  {
   "cell_type": "code",
   "execution_count": 14,
   "metadata": {},
   "outputs": [
    {
     "name": "stdout",
     "output_type": "stream",
     "text": [
      "Resultado teste: 2\n",
      "Número da imagem:  9\n"
     ]
    }
   ],
   "source": [
    "previsoes = modelo.predict(imagens_teste)\n",
    "resultado = np.argmax(previsoes[0])\n",
    "print(\"Resultado teste:\", resultado)\n",
    "print(\"Número da imagem: \", identificacoes_treino[0])"
   ]
  },
  {
   "cell_type": "markdown",
   "metadata": {},
   "source": [
    "# Avaliando o modelo"
   ]
  },
  {
   "cell_type": "code",
   "execution_count": 15,
   "metadata": {},
   "outputs": [
    {
     "name": "stdout",
     "output_type": "stream",
     "text": [
      "10000/10000 [==============================] - 0s 34us/sample - loss: 5.4326 - accuracy: 0.1000\n",
      "Perda do teste = 5.433     Acurácia do teste = 0.100\n"
     ]
    }
   ],
   "source": [
    "perda_teste, acuracia_teste = modelo.evaluate(imagens_teste, identificacoes_teste)\n",
    "print(\"Perda do teste = %.3f     Acurácia do teste = %.3f\" % (perda_teste, acuracia_teste))"
   ]
  },
  {
   "cell_type": "markdown",
   "metadata": {},
   "source": [
    "# Testando o modelo salvo"
   ]
  },
  {
   "cell_type": "code",
   "execution_count": 16,
   "metadata": {},
   "outputs": [
    {
     "name": "stdout",
     "output_type": "stream",
     "text": [
      "Resultado teste: 2\n",
      "Número da imagem:  9\n"
     ]
    }
   ],
   "source": [
    "previsoes = modelo_salvo.predict(imagens_teste)\n",
    "resultado = np.argmax(previsoes[0])\n",
    "print(\"Resultado teste:\", resultado)\n",
    "print(\"Número da imagem: \", identificacoes_treino[0])"
   ]
  }
 ],
 "metadata": {
  "kernelspec": {
   "display_name": "gpu - Python3.7",
   "language": "python",
   "name": "gpu3"
  },
  "language_info": {
   "codemirror_mode": {
    "name": "ipython",
    "version": 3
   },
   "file_extension": ".py",
   "mimetype": "text/x-python",
   "name": "python",
   "nbconvert_exporter": "python",
   "pygments_lexer": "ipython3",
   "version": "3.7.10"
  }
 },
 "nbformat": 4,
 "nbformat_minor": 4
}
